{
 "cells": [
  {
   "cell_type": "code",
   "execution_count": 8,
   "id": "57d09867",
   "metadata": {},
   "outputs": [],
   "source": [
    "# Import required libraries for scraping and data processing\n",
    "\n",
    "import requests  # For making HTTP requests to web pages\n",
    "\n",
    "from bs4 import BeautifulSoup  # For parsing HTML content\n",
    "\n",
    "import pandas as pd  # For handling tabular data and saving to CSV\n",
    "\n",
    "from urllib.parse import urljoin  # For constructing absolute URLs from relative links\n"
   ]
  },
  {
   "cell_type": "code",
   "execution_count": 9,
   "id": "e34c4a65",
   "metadata": {},
   "outputs": [],
   "source": [
    "# Base URL of the website to scrape\n",
    "BASE_URL = 'https://books.toscrape.com/'  # The homepage of the website from which categories and books will be scraped\n",
    "\n",
    "# ---------- 1. Scrape Categories ----------\n",
    "# Send a GET request to the base URL and parse the HTML content\n",
    "response = requests.get(BASE_URL)  # Fetch the HTML content of the homepage\n",
    "soup = BeautifulSoup(response.content, 'html.parser')  # Use BeautifulSoup to parse the fetched HTML\n",
    "\n",
    "categories = []  # Initialize an empty list to store category data\n",
    "# Locate the section of the page that contains the list of categories\n",
    "category_section = soup.find('ul', class_='nav nav-list')  # Find the navigation list containing categories\n",
    "category_links = category_section.find_all('a')  # Extract all 'a' tags (links) from the category section\n",
    "\n",
    "# Iterate through each category link (excluding the first which is 'Books')\n",
    "for cat in category_links[1:]:  # Skip the first 'Books' category (which links to all books)\n",
    "    cat_name = cat.text.strip()  # Extract and clean the category name text\n",
    "    cat_link = urljoin(BASE_URL, cat['href'])  # Construct the full URL from the relative href\n",
    "    categories.append({\"Category\": cat_name, \"URL\": cat_link})  # Add the category info as a dictionary to the list"
   ]
  },
  {
   "cell_type": "code",
   "execution_count": 10,
   "id": "0bb61be9",
   "metadata": {},
   "outputs": [],
   "source": [
    "# Save category data to CSV\n",
    "categories_df = pd.DataFrame(categories)  # Convert the list of category dictionaries into a pandas DataFrame\n",
    "categories_df.to_csv('categories.csv', index=False)  # Save the DataFrame to a CSV file without including the index column"
   ]
  },
  {
   "cell_type": "code",
   "execution_count": 12,
   "id": "ec9f641e",
   "metadata": {},
   "outputs": [],
   "source": [
    "#2. Scrape Books from the First Page ----------\n",
    "book_list = []  # Initialize an empty list to store all scraped book data\n",
    "\n",
    "# Find all book blocks on the homepage (each book is inside an <article> with class 'product_pod')\n",
    "book_section = soup.find_all('article', class_='product_pod')\n",
    "\n",
    "# Define a dictionary to convert rating words into numeric values\n",
    "ratings = {'One': 1, 'Two': 2, 'Three': 3, 'Four': 4, 'Five': 5}\n",
    "\n",
    "# Loop through each book element and extract required fields\n",
    "for book in book_section:\n",
    "    title = book.h3.a['title']  # Extract the book title from the <a> tag inside <h3>\n",
    "    price = book.find('p', class_='price_color').text.strip()[1:]  # Extract price and remove the pound symbol (£)\n",
    "    stock = book.find('p', class_='instock availability').text.strip()  # Extract stock availability text\n",
    "    rating_class = book.p['class'][1]  # Get the CSS class that represents the rating as a word (e.g., 'Three')\n",
    "    rating = ratings.get(rating_class, 0)  # Convert the rating word into a numeric value using the dictionary\n",
    "\n",
    "    # Get the relative URL of the book detail page and convert it to an absolute URL\n",
    "    relative_link = book.h3.a['href']\n",
    "    book_url = urljoin(BASE_URL, relative_link)\n",
    "\n",
    "    # Visit the book's detail page to get the category using the breadcrumb navigation\n",
    "    book_response = requests.get(book_url)\n",
    "    book_soup = BeautifulSoup(book_response.content, 'html.parser')\n",
    "    breadcrumb = book_soup.find('ul', class_='breadcrumb')\n",
    "    breadcrumb_items = breadcrumb.find_all('li')\n",
    "    category = breadcrumb_items[2].text.strip() if len(breadcrumb_items) > 2 else 'Unknown'  # Get the third item which is the category\n",
    "\n",
    "    # Store all extracted information in a dictionary and add it to the book list\n",
    "    book_list.append({\n",
    "        'Name': title,\n",
    "        'Category': category,\n",
    "        'Price': float(price),\n",
    "        'Stock Amount': stock,\n",
    "        'Rating': rating\n",
    "    })"
   ]
  },
  {
   "cell_type": "code",
   "execution_count": 13,
   "id": "efc619bb",
   "metadata": {},
   "outputs": [
    {
     "name": "stdout",
     "output_type": "stream",
     "text": [
      "✅ Scraping complete. Files saved: categories.csv & books.csv\n"
     ]
    }
   ],
   "source": [
    "# Save book data to CSV\n",
    "books_df = pd.DataFrame(book_list)  # Convert the list of book dictionaries into a pandas DataFrame\n",
    "books_df.to_csv('books.csv', index=False)  # Export the DataFrame to a CSV file without row indices\n",
    "\n",
    "print(\"✅ Scraping complete. Files saved: categories.csv & books.csv\")  # Confirm successful export of both CSV files"
   ]
  },
  {
   "cell_type": "code",
   "execution_count": null,
   "id": "2ea6a08d",
   "metadata": {},
   "outputs": [],
   "source": []
  },
  {
   "cell_type": "code",
   "execution_count": null,
   "id": "03345950",
   "metadata": {},
   "outputs": [],
   "source": []
  }
 ],
 "metadata": {
  "kernelspec": {
   "display_name": "Python 3 (ipykernel)",
   "language": "python",
   "name": "python3"
  },
  "language_info": {
   "codemirror_mode": {
    "name": "ipython",
    "version": 3
   },
   "file_extension": ".py",
   "mimetype": "text/x-python",
   "name": "python",
   "nbconvert_exporter": "python",
   "pygments_lexer": "ipython3",
   "version": "3.11.3"
  }
 },
 "nbformat": 4,
 "nbformat_minor": 5
}
